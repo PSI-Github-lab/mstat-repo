{
 "cells": [
  {
   "cell_type": "code",
   "execution_count": 4,
   "id": "1502de12",
   "metadata": {},
   "outputs": [
    {
     "ename": "ModuleNotFoundError",
     "evalue": "No module named 'RAWConversion'",
     "output_type": "error",
     "traceback": [
      "\u001b[1;31m---------------------------------------------------------------------------\u001b[0m",
      "\u001b[1;31mModuleNotFoundError\u001b[0m                       Traceback (most recent call last)",
      "Input \u001b[1;32mIn [4]\u001b[0m, in \u001b[0;36m<cell line: 8>\u001b[1;34m()\u001b[0m\n\u001b[0;32m      5\u001b[0m \u001b[38;5;28;01mif\u001b[39;00m module_path \u001b[38;5;129;01mnot\u001b[39;00m \u001b[38;5;129;01min\u001b[39;00m sys\u001b[38;5;241m.\u001b[39mpath:\n\u001b[0;32m      6\u001b[0m     sys\u001b[38;5;241m.\u001b[39mpath\u001b[38;5;241m.\u001b[39mappend(module_path\u001b[38;5;241m+\u001b[39m\u001b[38;5;124m\"\u001b[39m\u001b[38;5;130;01m\\\\\u001b[39;00m\u001b[38;5;124mdependecies\u001b[39m\u001b[38;5;130;01m\\\\\u001b[39;00m\u001b[38;5;124mfile_conversion\u001b[39m\u001b[38;5;124m\"\u001b[39m)\n\u001b[1;32m----> 8\u001b[0m \u001b[38;5;28;01mfrom\u001b[39;00m \u001b[38;5;21;01mRAWConversion\u001b[39;00m \u001b[38;5;28;01mimport\u001b[39;00m \u001b[38;5;241m*\u001b[39m\n",
      "\u001b[1;31mModuleNotFoundError\u001b[0m: No module named 'RAWConversion'"
     ]
    }
   ],
   "source": [
    "import sys\n",
    "import os\n",
    "\n",
    "module_path = os.path.abspath(os.path.join('..'))\n",
    "p = module_path+\"\\\\dependecies\\\\file_conversion\"\n",
    "#if p not in sys.path:\n",
    "#    sys.path.append(p.lower())"
   ]
  },
  {
   "cell_type": "code",
   "execution_count": 8,
   "id": "65b08a43",
   "metadata": {},
   "outputs": [
    {
     "data": {
      "text/plain": [
       "[\"C:\\\\Users\\\\Jackson's PC\\\\PSI Files Dropbox\\\\Designs_PSI\\\\Standalone_Software_PSI\\\\MS_Spectra_Analysis\\\\MStat_Dev\",\n",
       " \"c:\\\\users\\\\jackson's pc\\\\appdata\\\\local\\\\programs\\\\python\\\\python38\\\\python38.zip\",\n",
       " \"c:\\\\users\\\\jackson's pc\\\\appdata\\\\local\\\\programs\\\\python\\\\python38\\\\DLLs\",\n",
       " \"c:\\\\users\\\\jackson's pc\\\\appdata\\\\local\\\\programs\\\\python\\\\python38\\\\lib\",\n",
       " \"c:\\\\users\\\\jackson's pc\\\\appdata\\\\local\\\\programs\\\\python\\\\python38\",\n",
       " '',\n",
       " \"c:\\\\users\\\\jackson's pc\\\\appdata\\\\local\\\\programs\\\\python\\\\python38\\\\lib\\\\site-packages\",\n",
       " \"c:\\\\users\\\\jackson's pc\\\\appdata\\\\local\\\\programs\\\\python\\\\python38\\\\lib\\\\site-packages\\\\win32\",\n",
       " \"c:\\\\users\\\\jackson's pc\\\\appdata\\\\local\\\\programs\\\\python\\\\python38\\\\lib\\\\site-packages\\\\win32\\\\lib\",\n",
       " \"c:\\\\users\\\\jackson's pc\\\\appdata\\\\local\\\\programs\\\\python\\\\python38\\\\lib\\\\site-packages\\\\Pythonwin\",\n",
       " \"C:\\\\Users\\\\Jackson's PC\\\\PSI Files Dropbox\\\\Designs_PSI\\\\Standalone_Software_PSI\\\\MS_Spectra_Analysis\\\\dependecies\\\\file_conversion\"]"
      ]
     },
     "execution_count": 8,
     "metadata": {},
     "output_type": "execute_result"
    }
   ],
   "source": [
    "sys.path"
   ]
  },
  {
   "cell_type": "code",
   "execution_count": null,
   "id": "25126ac7",
   "metadata": {},
   "outputs": [],
   "source": []
  }
 ],
 "metadata": {
  "kernelspec": {
   "display_name": "Python 3 (ipykernel)",
   "language": "python",
   "name": "python3"
  },
  "language_info": {
   "codemirror_mode": {
    "name": "ipython",
    "version": 3
   },
   "file_extension": ".py",
   "mimetype": "text/x-python",
   "name": "python",
   "nbconvert_exporter": "python",
   "pygments_lexer": "ipython3",
   "version": "3.8.0"
  }
 },
 "nbformat": 4,
 "nbformat_minor": 5
}
